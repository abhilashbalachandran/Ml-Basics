{
 "cells": [
  {
   "cell_type": "code",
   "execution_count": 1,
   "metadata": {},
   "outputs": [],
   "source": [
    "import mglearn\n",
    "import pandas as pd\n",
    "import numpy as np\n",
    "import matplotlib.pyplot as plt\n",
    "from sklearn.model_selection import train_test_split\n",
    "import math"
   ]
  },
  {
   "cell_type": "code",
   "execution_count": 2,
   "metadata": {},
   "outputs": [],
   "source": [
    "def scatter_plot_data(X,y, class_names, feature_names,marker='o',colors=[]):\n",
    "    classes = np.unique(y)\n",
    "    for i,class_ in enumerate(classes):\n",
    "        X_class = X[np.where(y==class_)[0],:]\n",
    "        if len(colors)==0:\n",
    "            plt.scatter(X_class[:,0], X_class[:,1], marker=marker)\n",
    "        else:\n",
    "            plt.scatter(X_class[:,0], X_class[:,1], marker=marker,color = colors[i])\n",
    "    plt.legend(class_names, loc=4)\n",
    "    plt.xlabel(feature_names[0])\n",
    "    plt.ylabel(feature_names[1])\n"
   ]
  },
  {
   "cell_type": "code",
   "execution_count": 3,
   "metadata": {},
   "outputs": [
    {
     "data": {
      "image/png": "[encoded data removed]",
      "text/plain": [
       "<Figure size 640x480 with 1 Axes>"
      ]
     },
     "metadata": {},
     "output_type": "display_data"
    }
   ],
   "source": [
    "# generate dataset\n",
    "X, y = mglearn.datasets.make_forge()\n",
    "# plot dataset\n",
    "scatter_plot_data(X,y,['class 0','class 1'],['first feature', 'second feature'],'^',colors=['red', 'blue'])"
   ]
  },
  {
   "cell_type": "code",
   "execution_count": 8,
   "metadata": {},
   "outputs": [
    {
     "name": "stdout",
     "output_type": "stream",
     "text": [
      "Train data shape = (20, 2)\n",
      "Test data shape = (6, 2)\n"
     ]
    }
   ],
   "source": [
    "X_train, X_test, y_train, y_test = train_test_split(X,y,test_size=0.2,random_state=20)\n",
    "print(f\"Train data shape = {X_train.shape}\")\n",
    "print(f\"Test data shape = {X_test.shape}\")"
   ]
  },
  {
   "cell_type": "code",
   "execution_count": 77,
   "metadata": {},
   "outputs": [],
   "source": [
    "seed = 42\n",
    "np.random.seed(seed)\n",
    "def relu(x):\n",
    "    return np.maximum(0,x)\n",
    "\n",
    "def sigmoid(x):\n",
    "    sigmoid = 1/(1+np.exp(-x))\n",
    "    return sigmoid\n",
    "\n",
    "def softmax(z):\n",
    "    exp_z = np.exp(z)\n",
    "    softmax = exp_z/(np.sum(exp_z,axis=1,keepdims=True))\n",
    "    return softmax\n",
    "\n",
    "def relu_derivative(z):\n",
    "    derivative = z.copy()\n",
    "    derivative[derivative<0]=0\n",
    "    return derivative\n",
    "    \n",
    "\n",
    "class NeuralNetwork:\n",
    "    def __init__(self, input_dim, hidden_dim, output_dim, alpha=0.1,debug = False):\n",
    "        self.alpha = alpha\n",
    "        self.w = None\n",
    "        self.debug = debug\n",
    "        self.w1 = np.random.rand(hidden_dim, input_dim+1)\n",
    "        self.w2 = np.random.rand(output_dim, hidden_dim+1)\n",
    "    def forward(self, X, y):\n",
    "        m, num_features = X.shape\n",
    "        #forward prop through layer 1\n",
    "        #append 0 to X for bias\n",
    "        X_new = np.hstack((X,np.ones(shape = (m,1))))\n",
    "        Z1 = X_new@self.w1.T\n",
    "        A1 = relu(Z1)\n",
    "        #stack ones for bias\n",
    "        A1_biased = np.hstack((A1,np.ones(shape=(m,1))))\n",
    "        if self.debug:\n",
    "            print(f\"A1 = \\n{A1_biased}\")\n",
    "        #forward prop through layer 2\n",
    "        Z2 = A1_biased@self.w2.T\n",
    "        y_hat = softmax(Z2)\n",
    "        if self.debug:\n",
    "            print(f\"y_hat = \\n{y_hat}\")\n",
    "        return A1_biased, y_hat\n",
    "        \n",
    "    def loss(self,y_pred, y):\n",
    "        m = y.shape[0]\n",
    "        Loss = -np.sum(y*np.log(y)+(1-y)*np.log(1-y))/m\n",
    "    \n",
    "    def compute_gradients():\n",
    "        A1_biased, y_hat = self.forward(X,y)\n",
    "        dL_dz2 =  (y_hat-y) #m*od\n",
    "        dz2_dw2 = A1_biased #m*h_d+1\n",
    "        dL_dw2 = (y_hat-y).T@dz2_dw2 #odxhd+1\n",
    "        \n",
    "        #other backprop\n",
    "        dz2_da1 = W2[:,:-1] #od*(hd)\n",
    "        dL_da1 = dL_dz2*dz2_da1 #m*hd\n",
    "        \n",
    "        da1_dz1 = relu_derivative(Z1) #m*hd\n",
    "        dL_dz1 = dL_da1*da1_dz1\n",
    "        dz1_dw1 = X #m*id+1\n",
    "        dL_dw1 = dL_dz1.T@dz1_dw1\n",
    "        \n",
    "        \n",
    "        \n",
    "        \n",
    "        \n",
    "        "
   ]
  },
  {
   "cell_type": "code",
   "execution_count": 78,
   "metadata": {},
   "outputs": [
    {
     "name": "stdout",
     "output_type": "stream",
     "text": [
      "A1 = \n",
      "[[ 9.07095293  6.53272358  5.5587456   1.        ]\n",
      " [ 4.03903168  5.80230707  0.92400467  1.        ]\n",
      " [ 9.01115786  6.44474978  5.54546582  1.        ]\n",
      " [ 5.41491585  5.40720922  2.50481206  1.        ]\n",
      " [ 8.41374142  5.88064283  5.2468335   1.        ]\n",
      " [ 6.13347776  6.14666646  2.83187035  1.        ]\n",
      " [ 6.37194141  5.77324365  3.26658595  1.        ]\n",
      " [ 8.40557219  6.51391412  4.90489002  1.        ]\n",
      " [ 9.61990987  8.02343081  5.3206295   1.        ]\n",
      " [ 3.46535872  5.39756092  0.5650601   1.        ]\n",
      " [ 8.34096909  5.70123784  5.26880078  1.        ]\n",
      " [ 8.73980927  5.95468138  5.53308665  1.        ]\n",
      " [ 8.83392235  6.8378891   5.16143766  1.        ]\n",
      " [10.00909563  7.87848441  5.7852736   1.        ]\n",
      " [ 4.16202819  5.91508081  0.98726096  1.        ]\n",
      " [ 6.90181893  6.66952574  3.32275504  1.        ]\n",
      " [ 5.44329187  6.33543686  2.04385538  1.        ]\n",
      " [ 8.23625083  6.04762271  4.98175835  1.        ]\n",
      " [ 9.07896264  6.4985614   5.58474263  1.        ]\n",
      " [ 5.45499148  5.60083799  2.44272995  1.        ]]\n",
      "A2 = \n",
      "[[9.99762147e-01 2.37853198e-04]\n",
      " [9.10654398e-01 8.93456017e-02]\n",
      " [9.99755907e-01 2.44093053e-04]\n",
      " [9.86754227e-01 1.32457732e-02]\n",
      " [9.99621016e-01 3.78983607e-04]\n",
      " [9.91877490e-01 8.12251029e-03]\n",
      " [9.95156642e-01 4.84335848e-03]\n",
      " [9.99448623e-01 5.51377437e-04]\n",
      " [9.99722139e-01 2.77860514e-04]\n",
      " [8.60591588e-01 1.39408412e-01]\n",
      " [9.99624834e-01 3.75165673e-04]\n",
      " [9.99739457e-01 2.60542779e-04]\n",
      " [9.99615977e-01 3.84022555e-04]\n",
      " [9.99844679e-01 1.55320870e-04]\n",
      " [9.17903181e-01 8.20968187e-02]\n",
      " [9.95879411e-01 4.12058872e-03]\n",
      " [9.78386712e-01 2.16132880e-02]\n",
      " [9.99476392e-01 5.23607952e-04]\n",
      " [9.99769158e-01 2.30842315e-04]\n",
      " [9.85944144e-01 1.40558556e-02]]\n"
     ]
    }
   ],
   "source": [
    "nn = NeuralNetwork(input_dim = 2,hidden_dim=3,output_dim=2, debug=True)\n",
    "nn.forward(X_train,y_train)"
   ]
  },
  {
   "cell_type": "code",
   "execution_count": 25,
   "metadata": {},
   "outputs": [
    {
     "data": {
      "text/plain": [
       "array([0, 2, 3])"
      ]
     },
     "execution_count": 25,
     "metadata": {},
     "output_type": "execute_result"
    }
   ],
   "source": [
    "x = np.array([-1,2,3])\n",
    "np.maximum(0,x)"
   ]
  },
  {
   "cell_type": "code",
   "execution_count": null,
   "metadata": {},
   "outputs": [],
   "source": []
  }
 ],
 "metadata": {
  "kernelspec": {
   "display_name": "Python 3.11.0 64-bit",
   "language": "python",
   "name": "python311064bitdf9cd559006c4d42b0ea53ab807c5ca9"
  },
  "language_info": {
   "codemirror_mode": {
    "name": "ipython",
    "version": 3
   },
   "file_extension": ".py",
   "mimetype": "text/x-python",
   "name": "python",
   "nbconvert_exporter": "python",
   "pygments_lexer": "ipython3",
   "version": "3.11.0"
  }
 },
 "nbformat": 4,
 "nbformat_minor": 2
}

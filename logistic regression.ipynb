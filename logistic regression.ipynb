{
 "cells": [
  {
   "cell_type": "code",
   "execution_count": 1,
   "metadata": {},
   "outputs": [],
   "source": [
    "import mglearn\n",
    "import pandas as pd\n",
    "import numpy as np\n",
    "import matplotlib.pyplot as plt\n",
    "from sklearn.model_selection import train_test_split\n",
    "import math"
   ]
  },
  {
   "cell_type": "code",
   "execution_count": 2,
   "metadata": {},
   "outputs": [],
   "source": [
    "def scatter_plot_data(X,y, class_names, feature_names,marker='o',colors=[]):\n",
    "    classes = np.unique(y)\n",
    "    for i,class_ in enumerate(classes):\n",
    "        X_class = X[np.where(y==class_)[0],:]\n",
    "        if len(colors)==0:\n",
    "            plt.scatter(X_class[:,0], X_class[:,1], marker=marker)\n",
    "        else:\n",
    "            plt.scatter(X_class[:,0], X_class[:,1], marker=marker,color = colors[i])\n",
    "    plt.legend(class_names, loc=4)\n",
    "    plt.xlabel(feature_names[0])\n",
    "    plt.ylabel(feature_names[1])\n"
   ]
  },
  {
   "cell_type": "code",
   "execution_count": 4,
   "metadata": {},
   "outputs": [
    {
     "data": {
      "image/png": "[encoded data removed]",
      "text/plain": [
       "<Figure size 640x480 with 1 Axes>"
      ]
     },
     "metadata": {},
     "output_type": "display_data"
    }
   ],
   "source": [
    "# generate dataset\n",
    "X, y = mglearn.datasets.make_forge()\n",
    "# plot dataset\n",
    "scatter_plot_data(X,y,['class 0','class 1'],['first feature', 'second feature'],'^',colors=['red', 'blue'])"
   ]
  },
  {
   "cell_type": "code",
   "execution_count": 6,
   "metadata": {},
   "outputs": [
    {
     "name": "stdout",
     "output_type": "stream",
     "text": [
      "Train data shape = (20, 2)\n",
      "Test data shape = (6, 2)\n"
     ]
    }
   ],
   "source": [
    "X_train, X_test, y_train, y_test = train_test_split(X,y,test_size=0.2,random_state=20)\n",
    "print(f\"Train data shape = {X_train.shape}\")\n",
    "print(f\"Test data shape = {X_test.shape}\")"
   ]
  },
  {
   "cell_type": "markdown",
   "metadata": {},
   "source": [
    "### Logistic Loss Function\n",
    "\n",
    "The logistic loss function, also known as the binary cross-entropy loss, for a dataset is defined as:\n",
    "\n",
    "$$\n",
    "L = -\\frac{1}{m} \\sum_{i=1}^{m} \\left[ y_i \\log(\\hat{y}_i) + (1 - y_i) \\log(1 - \\hat{y}_i) \\right]\n",
    "$$\n",
    "\n",
    "where:\n",
    "- $m$ is the number of examples,\n",
    "- $y_i$ is the actual label of the \\(i\\)th example,\n",
    "- $\\hat{y}_i$ is the predicted probability for the \\(i\\)th example.\n",
    "\n",
    "### Derivative of the Logistic Loss Function\n",
    "\n",
    "The derivative of the logistic loss function with respect to the input \\(z\\) (the weighted sum before applying the sigmoid function) is given by:\n",
    "\n",
    "$$\n",
    "\\frac{\\partial L}{\\partial z} = \\hat{y} - y\n",
    "$$\n",
    "\n",
    "where:\n",
    "- $\\hat{y}$  - is the predicted probability\n",
    "- $(y)$ - is the actual label.\n",
    "\n",
    "### Update Equations for Weights and Bias\n",
    "\n",
    "Given the derivative, the update equations for the model's weights and bias can be formulated as:\n",
    "\n",
    "$$\n",
    "w_{\\text{new}} = w_{\\text{old}} - \\alpha \\cdot (\\hat{y} - y) \\cdot x\n",
    "$$\n",
    "\n",
    "$$\n",
    "b_{\\text{new}} = b_{\\text{old}} - \\alpha \\cdot (\\hat{y} - y)\n",
    "$$\n",
    "\n",
    "where:\n",
    "- \\(\\alpha\\) is the learning rate,\n",
    "- \\(x\\) is the input feature vector.\n"
   ]
  },
  {
   "cell_type": "code",
   "execution_count": 146,
   "metadata": {},
   "outputs": [],
   "source": [
    "class LogisticRegression:\n",
    "    def __init__(self, alpha = 0.1):\n",
    "        self.alpha = alpha\n",
    "        self.w = None\n",
    "        self.b = None\n",
    "        np.random.seed(27) #for reproducibility\n",
    "    def sigmoid(self, x):\n",
    "        sigmoid = 1/(1+np.exp(-x))\n",
    "        return sigmoid\n",
    "    def prob(self, X):\n",
    "        z = np.dot(X,self.w)+self.b\n",
    "        return self.sigmoid(z)\n",
    "    def loss_func(self, p, y, m):\n",
    "#         print(f\"y shape = {y.shape}, p shape = {p.shape}\")\n",
    "        L = np.dot(y,np.log(p))+np.dot((1-y),np.log(1-p))\n",
    "        L2 = np.sum(y * np.log(p) + (1 - y) * np.log(1 - p))\n",
    "#         print(f\"Loss  = {L}, L2 = {L2}\")\n",
    "        L = -L/m\n",
    "        return L\n",
    "    def fit(self, X_train, y_train, max_iter = 1000):\n",
    "        m, n = X_train.shape\n",
    "        self.w = np.random.random(n)\n",
    "        self.b = np.random.random(1)\n",
    "        \n",
    "        prev_loss = math.inf\n",
    "        loss = 0\n",
    "        i = 0\n",
    "        while np.abs(prev_loss-loss)>=1e-2 and i<max_iter:\n",
    "            y_hat = self.prob(X_train)\n",
    "#             print(f\"y_hat = {y_hat}, \\n w = {self.w}, \\n b = {self.b}\")\n",
    "            loss = self.loss_func(y_hat, y_train, m)\n",
    "            #derivative\n",
    "            dl_dw = np.dot(y_hat-y_train,X_train)/m\n",
    "            dl_db = np.sum(y_hat-y_train)/m\n",
    "            self.w = self.w-self.alpha*dl_dw\n",
    "            self.b = self.b-self.alpha*dl_db\n",
    "            if i%100==0:\n",
    "                print(f\"loss = {loss} for iter = {i}\")\n",
    "            i+=1\n",
    "    def predict_proba(self, X):\n",
    "        y_pred = self.prob(X)\n",
    "        return y_pred\n",
    "    def predict(self, X, thresh=0.5):\n",
    "        y_pred = self.predict_proba(X)\n",
    "        y_pred[y_pred>=thresh]=1\n",
    "        y_pred[y_pred<thresh]=0\n",
    "        return np.array(list(map(int,y_pred)))\n",
    "        "
   ]
  },
  {
   "cell_type": "code",
   "execution_count": 147,
   "metadata": {},
   "outputs": [
    {
     "name": "stdout",
     "output_type": "stream",
     "text": [
      "training logistic regression\n",
      "loss = 2.165192457671733 for iter = 0\n",
      "loss = 0.1532437035399478 for iter = 100\n",
      "loss = 0.14051655508764782 for iter = 200\n",
      "loss = 0.1359185132420454 for iter = 300\n",
      "loss = 0.1335412505131135 for iter = 400\n",
      "loss = 0.13205075785703566 for iter = 500\n",
      "loss = 0.13098977136516027 for iter = 600\n",
      "loss = 0.1301630568199501 for iter = 700\n",
      "loss = 0.1294749101664658 for iter = 800\n",
      "loss = 0.12887373256828377 for iter = 900\n",
      "predictions = [0 1 0 0 0 1]\n",
      "gt = [0 0 0 0 0 1]\n"
     ]
    }
   ],
   "source": [
    "logistic_reg = LogisticRegression()\n",
    "print(f\"training logistic regression\")\n",
    "logistic_reg.fit(X_train,y_train)\n",
    "y_pred = logistic_reg.predict(X_test)\n",
    "print(f\"predictions = {y_pred}\")\n",
    "print(f\"gt = {y_test}\")"
   ]
  },
  {
   "cell_type": "code",
   "execution_count": 148,
   "metadata": {},
   "outputs": [
    {
     "data": {
      "text/plain": [
       "<matplotlib.contour.QuadContourSet at 0x7f6c6e27a750>"
      ]
     },
     "execution_count": 148,
     "metadata": {},
     "output_type": "execute_result"
    },
    {
     "data": {
      "image/png": "[encoded data removed]",
      "text/plain": [
       "<Figure size 640x480 with 1 Axes>"
      ]
     },
     "metadata": {},
     "output_type": "display_data"
    }
   ],
   "source": [
    "scatter_plot_data(X,y,['class 0','class 1'],['first feature', 'second feature'],'^',colors=['red', 'blue'])\n",
    "x_min, x_max = X[:,0].min(), X[:,0].max()\n",
    "y_min, y_max = X[:,1].min(), X[:,1].max()\n",
    "xx,yy = np.meshgrid(np.linspace(x_min,x_max,100), np.linspace(y_min,y_max,100))\n",
    "Z = logistic_reg.predict(np.c_[xx.ravel(),yy.ravel()])\n",
    "Z = Z.reshape(xx.shape)\n",
    "plt.contourf(xx,yy,Z, cmap=plt.cm.Spectral, alpha=0.5)\n",
    "\n"
   ]
  },
  {
   "cell_type": "markdown",
   "metadata": {},
   "source": [
    "### Softmax Function\n",
    "\n",
    "The softmax function is utilized in multi-class classification problems to transform raw logits (scores) from the model into probabilities. For a given vector of raw class scores $\\mathbf{z} = [z_1, z_2, \\ldots, z_K]$ from the model for one data point, where $K$ is the number of classes, the softmax function for class $k$ is defined as:\n",
    "\n",
    "$$\n",
    "\\text{softmax}(z_k) = \\frac{e^{z_k}}{\\sum_{j=1}^{K} e^{z_j}}\n",
    "$$\n",
    "\n",
    "This operation results in a vector $\\mathbf{p}$ where each component $p_k$ represents the probability that the data point belongs to class $k$, given the logits $\\mathbf{z}$. The probabilities $p_k$ for all classes $k$ sum up to 1.\n",
    "\n",
    "### Cross-Entropy Loss\n",
    "\n",
    "In conjunction with the softmax function, cross-entropy loss (or log loss) measures the performance of a classification model whose output is a probability value between 0 and 1. Cross-entropy loss increases as the predicted probability diverges from the actual label. For a single data point and true class $y_k$, where $y_k$ is 1 for the correct class and 0 for others, the cross-entropy loss for that data point is:\n",
    "\n",
    "$$\n",
    "L = -\\sum_{k=1}^{K} y_k \\log(p_k)\n",
    "$$\n",
    "\n",
    "For $N$ data points, the average cross-entropy loss over the dataset is:\n",
    "\n",
    "$$\n",
    "L = -\\frac{1}{N}\\sum_{i=1}^{N}\\sum_{k=1}^{K} y_{ik} \\log(p_{ik})\n",
    "$$\n",
    "\n",
    "where $y_{ik}$ is the indicator for whether class $k$ is the correct classification for observation $i$, and $p_{ik}$ is the probability that observation $i$ is classified as class $k$.\n",
    "\n",
    "### Derivative of Cross-Entropy Loss with Respect to Logits\n",
    "\n",
    "The derivative of the cross-entropy loss with respect to the raw logits $\\mathbf{z}$ (before applying softmax) is essential for updating the model parameters during training via gradient descent. Given the softmax probabilities $\\mathbf{p}$ and the one-hot encoded true labels $\\mathbf{y}$, the gradient is:\n",
    "\n",
    "$$\n",
    "\\frac{\\partial L}{\\partial z_k} = p_k - y_k\n",
    "$$\n",
    "\n",
    "This represents the difference between the predicted probability and the actual label for each class $k$, which intuitively guides how the model's logits $\\mathbf{z}$ should be adjusted to reduce the loss.\n"
   ]
  },
  {
   "cell_type": "code",
   "execution_count": null,
   "metadata": {},
   "outputs": [],
   "source": []
  }
 ],
 "metadata": {
  "kernelspec": {
   "display_name": "Python 3.11.0 64-bit",
   "language": "python",
   "name": "python311064bitdf9cd559006c4d42b0ea53ab807c5ca9"
  },
  "language_info": {
   "codemirror_mode": {
    "name": "ipython",
    "version": 3
   },
   "file_extension": ".py",
   "mimetype": "text/x-python",
   "name": "python",
   "nbconvert_exporter": "python",
   "pygments_lexer": "ipython3",
   "version": "3.11.0"
  }
 },
 "nbformat": 4,
 "nbformat_minor": 2
}
